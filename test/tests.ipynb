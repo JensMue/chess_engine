{
 "cells": [
  {
   "cell_type": "markdown",
   "metadata": {},
   "source": [
    "# Chess engine project - Tests and analysis\n",
    "\n",
    "In this file I conduct various types of tests and analyses. \n",
    "\n",
    "The outcomes are used in the presentation in chess_engine/doc/.\n",
    "\n",
    "## Contents\n",
    "\n",
    "- [SimpleEngine tournament](#SimpleEngine-tournament)\n",
    "- [Speed test evaluation function](#Speed-test-evaluation-function)\n",
    "- [Analyze pruning and move-ordering](#Analyze-pruning-and-move-ordering)\n"
   ]
  },
  {
   "cell_type": "code",
   "execution_count": 1,
   "metadata": {},
   "outputs": [
    {
     "name": "stdout",
     "output_type": "stream",
     "text": [
      "chess_engine\\test\n",
      "chess_engine\n"
     ]
    }
   ],
   "source": [
    "# Change working directory to project root\n",
    "import os\n",
    "print(os.getcwd( )[-17:])\n",
    "os.chdir('..') \n",
    "print(os.getcwd( )[-12:])"
   ]
  },
  {
   "cell_type": "code",
   "execution_count": 2,
   "metadata": {},
   "outputs": [],
   "source": [
    "# Imports\n",
    "\n",
    "import chess\n",
    "\n",
    "import time\n",
    "\n",
    "from src.chess_engine import tournament\n",
    "from src.chess_engine import SimpleEngine, NegamaxEngine\n",
    "from src.chess_engine.evaluation import *\n",
    "from src.chess_engine.utils import make_board_numeric"
   ]
  },
  {
   "cell_type": "markdown",
   "metadata": {},
   "source": [
    "## SimpleEngine tournament\n",
    "\n",
    "Let three heuristics in the SimpleEngine class play against each other in a tournament."
   ]
  },
  {
   "cell_type": "code",
   "execution_count": 4,
   "metadata": {},
   "outputs": [
    {
     "name": "stdout",
     "output_type": "stream",
     "text": [
      "Match: randomEngine vs randomEngine: [1, 7, 2, 0]\n",
      "Match: randomEngine vs attackingEngine: [0, 4, 6, 0]\n",
      "Match: randomEngine vs limitingEngine: [0, 8, 2, 0]\n",
      "Match: randomEngine vs NegamaxEngine(depth=1): [0, 7, 3, 0]\n",
      "Match: randomEngine vs NegamaxEngine(depth=2): [0, 5, 5, 0]\n",
      "Match: randomEngine vs NegamaxEngine(depth=3): [0, 2, 8, 0]\n",
      "Match: attackingEngine vs randomEngine: [4, 6, 0, 0]\n",
      "Match: attackingEngine vs attackingEngine: [0, 10, 0, 0]\n",
      "Match: attackingEngine vs limitingEngine: [0, 9, 1, 0]\n",
      "Match: attackingEngine vs NegamaxEngine(depth=1): [1, 7, 2, 0]\n",
      "Match: attackingEngine vs NegamaxEngine(depth=2): [0, 5, 5, 0]\n",
      "Match: attackingEngine vs NegamaxEngine(depth=3): [0, 4, 6, 0]\n",
      "Match: limitingEngine vs randomEngine: [4, 6, 0, 0]\n",
      "Match: limitingEngine vs attackingEngine: [0, 10, 0, 0]\n",
      "Match: limitingEngine vs limitingEngine: [0, 9, 1, 0]\n",
      "Match: limitingEngine vs NegamaxEngine(depth=1): [4, 6, 0, 0]\n",
      "Match: limitingEngine vs NegamaxEngine(depth=2): [0, 9, 1, 0]\n",
      "Match: limitingEngine vs NegamaxEngine(depth=3): [0, 2, 8, 0]\n",
      "Match: NegamaxEngine(depth=1) vs randomEngine: [1, 9, 0, 0]\n",
      "Match: NegamaxEngine(depth=1) vs attackingEngine: [2, 7, 1, 0]\n",
      "Match: NegamaxEngine(depth=1) vs limitingEngine: [1, 7, 2, 0]\n",
      "Match: NegamaxEngine(depth=1) vs NegamaxEngine(depth=1): [0, 10, 0, 0]\n",
      "Match: NegamaxEngine(depth=1) vs NegamaxEngine(depth=2): [0, 10, 0, 0]\n",
      "Match: NegamaxEngine(depth=1) vs NegamaxEngine(depth=3): [0, 10, 0, 0]\n",
      "Match: NegamaxEngine(depth=2) vs randomEngine: [10, 0, 0, 0]\n",
      "Match: NegamaxEngine(depth=2) vs attackingEngine: [5, 5, 0, 0]\n",
      "Match: NegamaxEngine(depth=2) vs limitingEngine: [7, 3, 0, 0]\n",
      "Match: NegamaxEngine(depth=2) vs NegamaxEngine(depth=1): [0, 10, 0, 0]\n",
      "Match: NegamaxEngine(depth=2) vs NegamaxEngine(depth=2): [0, 10, 0, 0]\n",
      "Match: NegamaxEngine(depth=2) vs NegamaxEngine(depth=3): [0, 0, 10, 0]\n",
      "Match: NegamaxEngine(depth=3) vs randomEngine: [9, 1, 0, 0]\n",
      "Match: NegamaxEngine(depth=3) vs attackingEngine: [6, 4, 0, 0]\n",
      "Match: NegamaxEngine(depth=3) vs limitingEngine: [9, 1, 0, 0]\n",
      "Match: NegamaxEngine(depth=3) vs NegamaxEngine(depth=1): [0, 10, 0, 0]\n",
      "Match: NegamaxEngine(depth=3) vs NegamaxEngine(depth=2): [0, 10, 0, 0]\n",
      "Match: NegamaxEngine(depth=3) vs NegamaxEngine(depth=3): [0, 10, 0, 0]\n",
      "white_results {'randomEngine': [1, 33, 26, 0], 'attackingEngine': [5, 41, 14, 0], 'limitingEngine': [8, 42, 10, 0], 'NegamaxEngine(depth=1)': [4, 53, 3, 0], 'NegamaxEngine(depth=2)': [22, 28, 10, 0], 'NegamaxEngine(depth=3)': [24, 36, 0, 0]}\n",
      "black_results {'randomEngine': [29, 29, 2, 0], 'attackingEngine': [13, 40, 7, 0], 'limitingEngine': [17, 37, 6, 0], 'NegamaxEngine(depth=1)': [5, 50, 5, 0], 'NegamaxEngine(depth=2)': [0, 49, 11, 0], 'NegamaxEngine(depth=3)': [0, 28, 32, 0]}\n",
      "total_results {'randomEngine': [3, 62, 55, 0], 'attackingEngine': [12, 81, 27, 0], 'limitingEngine': [14, 79, 27, 0], 'NegamaxEngine(depth=1)': [9, 103, 8, 0], 'NegamaxEngine(depth=2)': [33, 77, 10, 0], 'NegamaxEngine(depth=3)': [56, 64, 0, 0]}\n"
     ]
    }
   ],
   "source": [
    "# Define players\n",
    "random_engine = SimpleEngine('random')\n",
    "attacking_engine = SimpleEngine('attacking')\n",
    "limiting_engine = SimpleEngine('limiting')\n",
    "negamax_engine1 = NegamaxEngine(depth=1)\n",
    "negamax_engine2 = NegamaxEngine(depth=2)\n",
    "negamax_engine3 = NegamaxEngine(depth=3)\n",
    "players = [random_engine, attacking_engine, limiting_engine, negamax_engine1, negamax_engine2, negamax_engine3]\n",
    "\n",
    "# Run tournament\n",
    "results = tournament(players, num_games=10)"
   ]
  },
  {
   "cell_type": "code",
   "execution_count": 12,
   "metadata": {},
   "outputs": [
    {
     "name": "stdout",
     "output_type": "stream",
     "text": [
      "TOURNAMENT RESULTS:\n",
      "\n",
      "randomEngine [3, 62, 55, 0]\n",
      "attackingEngine [12, 81, 27, 0]\n",
      "limitingEngine [14, 79, 27, 0]\n",
      "NegamaxEngine(depth=1) [9, 103, 8, 0]\n",
      "NegamaxEngine(depth=2) [33, 77, 10, 0]\n",
      "NegamaxEngine(depth=3) [56, 64, 0, 0]\n",
      "\n",
      "Winner is the NegamaxEngine (higher depth is better).\n"
     ]
    }
   ],
   "source": [
    "# Print Tournament results\n",
    "print('TOURNAMENT RESULTS:\\n')\n",
    "for k, v in results.items():\n",
    "    print(k, v)\n",
    "\n",
    "# Winner is the NegamaxEngine (higher depth is btter)\n",
    "print('\\nWinner is the NegamaxEngine (higher depth is better).')"
   ]
  },
  {
   "cell_type": "markdown",
   "metadata": {},
   "source": [
    "## Speed test evaluation function"
   ]
  },
  {
   "cell_type": "code",
   "execution_count": 3,
   "metadata": {},
   "outputs": [],
   "source": [
    "# Number of evaluation calls\n",
    "n = 100_000\n",
    "\n",
    "# Instantiate board\n",
    "board = chess.Board()\n",
    "numeric_board = make_board_numeric(board)\n",
    "\n",
    "# Initial numba call for setup\n",
    "evaluation = request_evaluation(board)"
   ]
  },
  {
   "cell_type": "code",
   "execution_count": 4,
   "metadata": {},
   "outputs": [
    {
     "name": "stdout",
     "output_type": "stream",
     "text": [
      "Number of evaluations: 100000\n",
      "\n",
      "SPEED TESTS WITHOUT NUMBA\n",
      "\n",
      "make_board_numeric(board): 4.22s\n",
      "compute_evaluation_nonumba(numeric_board): 4.06s\n",
      "request_evaluation_nonumba(board): 9.18s\n",
      "\n",
      "SPEED TESTS WITH NUMBA\n",
      "\n",
      "make_board_numeric(board): 4.22s\n",
      "compute_evaluation_nonumba(numeric_board): 0.36s\n",
      "request_evaluation_nonumba(board): 4.4s\n",
      "\n",
      "PERFORMANCE IMPROVEMENT\n",
      "\n",
      "Evaluation time improvement: 91.13%\n",
      "Total time improvement: 52.05%\n"
     ]
    }
   ],
   "source": [
    "print(f'Number of evaluations: {n}')\n",
    "\n",
    "# Test speed of making board numeric\n",
    "t0 = time.perf_counter()\n",
    "for i in range(n):\n",
    "    evaluation = make_board_numeric(board)\n",
    "t1 = time.perf_counter()\n",
    "make_numeric_time = t1-t0\n",
    "\n",
    "# WITHOUT NUMBA\n",
    "print('\\nSPEED TESTS WITHOUT NUMBA')\n",
    "print(f'\\nmake_board_numeric(board): {round(make_numeric_time, 2)}s')\n",
    "\n",
    "# Test speed of running the evaluation function\n",
    "t0 = time.perf_counter()\n",
    "for i in range(n):\n",
    "    evaluation = compute_evaluation_nonumba(numeric_board)\n",
    "t1 = time.perf_counter()\n",
    "evaluation_time_nonumba = t1-t0\n",
    "print(f'compute_evaluation_nonumba(numeric_board): {round(evaluation_time_nonumba, 2)}s')\n",
    "\n",
    "# Test total evaluation time\n",
    "t0 = time.perf_counter()\n",
    "for i in range(n):\n",
    "    evaluation = request_evaluation_nonumba(board)\n",
    "t1 = time.perf_counter()\n",
    "total_time_nonumba = t1-t0\n",
    "print(f'request_evaluation_nonumba(board): {round(total_time_nonumba, 2)}s')\n",
    "\n",
    "# WITH NUMBA\n",
    "print('\\nSPEED TESTS WITH NUMBA')\n",
    "print(f'\\nmake_board_numeric(board): {round(make_numeric_time, 2)}s')\n",
    "\n",
    "# Test speed of running the evaluation function\n",
    "t0 = time.perf_counter()\n",
    "for i in range(n):\n",
    "    evaluation = compute_evaluation(numeric_board)\n",
    "t1 = time.perf_counter()\n",
    "evaluation_time_numba = t1-t0\n",
    "print(f'compute_evaluation_nonumba(numeric_board): {round(evaluation_time_numba, 2)}s')\n",
    "\n",
    "# Test total evaluation time\n",
    "t0 = time.perf_counter()\n",
    "for i in range(n):\n",
    "    evaluation = request_evaluation(board)\n",
    "t1 = time.perf_counter()\n",
    "total_time_numba = t1-t0\n",
    "print(f'request_evaluation_nonumba(board): {round(total_time_numba, 2)}s')\n",
    "\n",
    "# PERFORMANCE IMPROVEMENT\n",
    "print('\\nPERFORMANCE IMPROVEMENT')\n",
    "print('\\nEvaluation time improvement: {improvement}%'.format(\n",
    "    improvement = round(100 * (1 - evaluation_time_numba / evaluation_time_nonumba), 2)))\n",
    "print('Total time improvement: {improvement}%'.format(\n",
    "    improvement = round(100 * (1 - total_time_numba / total_time_nonumba), 2)))"
   ]
  },
  {
   "cell_type": "markdown",
   "metadata": {},
   "source": [
    "## Analyze pruning and move-ordering\n",
    "\n",
    "In this section, I analyze the reduction of the necessary number evaluations for alpha-beta pruning with different mthods of move-ordering."
   ]
  },
  {
   "cell_type": "code",
   "execution_count": 5,
   "metadata": {},
   "outputs": [],
   "source": [
    "# Import previous versions of NegamaxEngine with less features for comparison\n",
    "from src.chess_engine.engine_versions import *"
   ]
  },
  {
   "cell_type": "code",
   "execution_count": 6,
   "metadata": {},
   "outputs": [],
   "source": [
    "def compare_versions(depth, board):\n",
    "    # player1 = MinimaxEngine(depth=depth)\n",
    "    player2 = NegamaxEngineV1(depth=depth) # no pruning\n",
    "    # player3 = NegamaxEngineV2(depth=depth)\n",
    "    # player4 = NegamaxEngineV3(depth=depth)\n",
    "    # player5 = NegamaxEngineV4(depth=depth)\n",
    "    player6 = NegamaxEngineV5(depth=depth) # ab pruning, but no move ordering\n",
    "    player7 = NegamaxEngineV6(depth=depth) # ab pruning, random move ordering\n",
    "    player8 = NegamaxEngineV7(depth=depth) # ab pruning, systematic move ordering\n",
    "    player_list = [player2, player6, player7, player8]\n",
    "    \n",
    "    for player in player_list:\n",
    "        t0 = time.perf_counter()\n",
    "        move = player.make_move(board)\n",
    "        t1 = time.perf_counter()\n",
    "        print('{player} | time: {time}s | num_evals: {num_evals} | move: {move}'.format(\n",
    "            player=str(player), time=round(t1-t0, 4), num_evals=player.num_evals, move=move))"
   ]
  },
  {
   "cell_type": "code",
   "execution_count": 9,
   "metadata": {},
   "outputs": [
    {
     "name": "stdout",
     "output_type": "stream",
     "text": [
      "\n",
      "Depth=1\n",
      "NegamaxEngineV1(depth=1,no_pruning) | time: 0.0071s | num_evals: 39 | move: h5g4\n",
      "NegamaxEngineV5(depth=1,ab_pruning,no_ordering) | time: 0.0073s | num_evals: 39 | move: h5g4\n",
      "NegamaxEngineV6(depth=1,ab_pruning,random_ordering) | time: 0.0072s | num_evals: 39 | move: h5g4\n",
      "NegamaxEngineV7(depth=1,ab_pruning,systematic_ordering) | time: 0.0078s | num_evals: 39 | move: h5g4\n",
      "\n",
      "Depth=2\n",
      "NegamaxEngineV1(depth=2,no_pruning) | time: 0.2348s | num_evals: 1689 | move: h5g4\n",
      "NegamaxEngineV5(depth=2,ab_pruning,no_ordering) | time: 0.0288s | num_evals: 243 | move: h5g4\n",
      "NegamaxEngineV6(depth=2,ab_pruning,random_ordering) | time: 0.032s | num_evals: 161 | move: h5g4\n",
      "NegamaxEngineV7(depth=2,ab_pruning,systematic_ordering) | time: 0.0307s | num_evals: 117 | move: h5g4\n",
      "\n",
      "Depth=3\n",
      "NegamaxEngineV1(depth=3,no_pruning) | time: 7.5558s | num_evals: 63455 | move: h5g4\n",
      "NegamaxEngineV5(depth=3,ab_pruning,no_ordering) | time: 0.7614s | num_evals: 5927 | move: h5g4\n",
      "NegamaxEngineV6(depth=3,ab_pruning,random_ordering) | time: 0.5696s | num_evals: 4389 | move: h5g4\n",
      "NegamaxEngineV7(depth=3,ab_pruning,systematic_ordering) | time: 0.2378s | num_evals: 1514 | move: h5g4\n",
      "\n",
      "Depth=4\n",
      "NegamaxEngineV1(depth=4,no_pruning) | time: 310.5371s | num_evals: 2625675 | move: h5g4\n",
      "NegamaxEngineV5(depth=4,ab_pruning,no_ordering) | time: 3.2765s | num_evals: 24831 | move: h5g4\n",
      "NegamaxEngineV6(depth=4,ab_pruning,random_ordering) | time: 9.6762s | num_evals: 55195 | move: h5g4\n",
      "NegamaxEngineV7(depth=4,ab_pruning,systematic_ordering) | time: 1.7962s | num_evals: 8762 | move: h5g4\n"
     ]
    }
   ],
   "source": [
    "# exemplary position\n",
    "board=chess.Board('r3k2r/pbp1bp2/2nqpp2/1p1p3p/P3P1QP/1PNP1N2/2P1BPP1/R3K2R b KQkq - 0 11')\n",
    "\n",
    "print('\\nDepth=1')\n",
    "compare_versions(depth=1, board=board)\n",
    "\n",
    "print('\\nDepth=2')\n",
    "compare_versions(depth=2, board=board)\n",
    "\n",
    "print('\\nDepth=3')\n",
    "compare_versions(depth=3, board=board)\n",
    "\n",
    "print('\\nDepth=4')\n",
    "compare_versions(depth=4, board=board)"
   ]
  },
  {
   "cell_type": "code",
   "execution_count": null,
   "metadata": {},
   "outputs": [],
   "source": []
  }
 ],
 "metadata": {
  "kernelspec": {
   "display_name": "Python 3.9.7 ('venv_chess_engine')",
   "language": "python",
   "name": "python3"
  },
  "language_info": {
   "codemirror_mode": {
    "name": "ipython",
    "version": 3
   },
   "file_extension": ".py",
   "mimetype": "text/x-python",
   "name": "python",
   "nbconvert_exporter": "python",
   "pygments_lexer": "ipython3",
   "version": "3.9.7"
  },
  "vscode": {
   "interpreter": {
    "hash": "c145b54f3f4aa84108dbed00be4acbb030a3d4b298216c0f32858975c812f7e7"
   }
  }
 },
 "nbformat": 4,
 "nbformat_minor": 4
}
